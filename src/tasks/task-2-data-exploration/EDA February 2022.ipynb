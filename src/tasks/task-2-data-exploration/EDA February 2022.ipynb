{
 "cells": [
  {
   "cell_type": "code",
   "execution_count": 1,
   "metadata": {},
   "outputs": [],
   "source": [
    "import pandas as pd\n",
    "from matplotlib import pyplot as plt\n",
    "import numpy as np"
   ]
  },
  {
   "cell_type": "code",
   "execution_count": 2,
   "metadata": {},
   "outputs": [
    {
     "data": {
      "text/html": [
       "<div>\n",
       "<style scoped>\n",
       "    .dataframe tbody tr th:only-of-type {\n",
       "        vertical-align: middle;\n",
       "    }\n",
       "\n",
       "    .dataframe tbody tr th {\n",
       "        vertical-align: top;\n",
       "    }\n",
       "\n",
       "    .dataframe thead th {\n",
       "        text-align: right;\n",
       "    }\n",
       "</style>\n",
       "<table border=\"1\" class=\"dataframe\">\n",
       "  <thead>\n",
       "    <tr style=\"text-align: right;\">\n",
       "      <th></th>\n",
       "      <th>DATDEP</th>\n",
       "      <th>TRAIN_NO</th>\n",
       "      <th>RELATION</th>\n",
       "      <th>TRAIN_SERV</th>\n",
       "      <th>PTCAR_NO</th>\n",
       "      <th>LINE_NO_DEP</th>\n",
       "      <th>REAL_TIME_ARR</th>\n",
       "      <th>REAL_TIME_DEP</th>\n",
       "      <th>PLANNED_TIME_ARR</th>\n",
       "      <th>PLANNED_TIME_DEP</th>\n",
       "      <th>DELAY_ARR</th>\n",
       "      <th>DELAY_DEP</th>\n",
       "      <th>RELATION_DIRECTION</th>\n",
       "      <th>PTCAR_LG_NM_NL</th>\n",
       "      <th>LINE_NO_ARR</th>\n",
       "      <th>PLANNED_DATE_ARR</th>\n",
       "      <th>PLANNED_DATE_DEP</th>\n",
       "      <th>REAL_DATE_ARR</th>\n",
       "      <th>REAL_DATE_DEP</th>\n",
       "    </tr>\n",
       "  </thead>\n",
       "  <tbody>\n",
       "    <tr>\n",
       "      <th>0</th>\n",
       "      <td>01FEB2022</td>\n",
       "      <td>18446</td>\n",
       "      <td>EXTRA</td>\n",
       "      <td>SNCB/NMBS</td>\n",
       "      <td>726</td>\n",
       "      <td>37</td>\n",
       "      <td>NaN</td>\n",
       "      <td>19:10:33</td>\n",
       "      <td>NaN</td>\n",
       "      <td>19:10:00</td>\n",
       "      <td>NaN</td>\n",
       "      <td>33.0</td>\n",
       "      <td>NaN</td>\n",
       "      <td>LIEGE-GUILLEMINS</td>\n",
       "      <td>NaN</td>\n",
       "      <td>NaN</td>\n",
       "      <td>01FEB2022</td>\n",
       "      <td>NaN</td>\n",
       "      <td>01FEB2022</td>\n",
       "    </tr>\n",
       "    <tr>\n",
       "      <th>1</th>\n",
       "      <td>01FEB2022</td>\n",
       "      <td>18446</td>\n",
       "      <td>EXTRA</td>\n",
       "      <td>SNCB/NMBS</td>\n",
       "      <td>208</td>\n",
       "      <td>40</td>\n",
       "      <td>19:17:29</td>\n",
       "      <td>19:18:03</td>\n",
       "      <td>19:17:00</td>\n",
       "      <td>19:18:00</td>\n",
       "      <td>29.0</td>\n",
       "      <td>3.0</td>\n",
       "      <td>NaN</td>\n",
       "      <td>BRESSOUX</td>\n",
       "      <td>40</td>\n",
       "      <td>01FEB2022</td>\n",
       "      <td>01FEB2022</td>\n",
       "      <td>01FEB2022</td>\n",
       "      <td>01FEB2022</td>\n",
       "    </tr>\n",
       "    <tr>\n",
       "      <th>2</th>\n",
       "      <td>01FEB2022</td>\n",
       "      <td>18446</td>\n",
       "      <td>EXTRA</td>\n",
       "      <td>SNCB/NMBS</td>\n",
       "      <td>1195</td>\n",
       "      <td>NaN</td>\n",
       "      <td>19:26:55</td>\n",
       "      <td>NaN</td>\n",
       "      <td>19:28:00</td>\n",
       "      <td>NaN</td>\n",
       "      <td>-65.0</td>\n",
       "      <td>NaN</td>\n",
       "      <td>NaN</td>\n",
       "      <td>VISE</td>\n",
       "      <td>40</td>\n",
       "      <td>01FEB2022</td>\n",
       "      <td>NaN</td>\n",
       "      <td>01FEB2022</td>\n",
       "      <td>NaN</td>\n",
       "    </tr>\n",
       "    <tr>\n",
       "      <th>3</th>\n",
       "      <td>01FEB2022</td>\n",
       "      <td>3844</td>\n",
       "      <td>IC 25</td>\n",
       "      <td>SNCB/NMBS</td>\n",
       "      <td>562</td>\n",
       "      <td>34</td>\n",
       "      <td>NaN</td>\n",
       "      <td>22:06:16</td>\n",
       "      <td>NaN</td>\n",
       "      <td>22:06:00</td>\n",
       "      <td>NaN</td>\n",
       "      <td>16.0</td>\n",
       "      <td>IC 25: HERSTAL -&gt; MONS</td>\n",
       "      <td>HERSTAL</td>\n",
       "      <td>NaN</td>\n",
       "      <td>NaN</td>\n",
       "      <td>01FEB2022</td>\n",
       "      <td>NaN</td>\n",
       "      <td>01FEB2022</td>\n",
       "    </tr>\n",
       "    <tr>\n",
       "      <th>4</th>\n",
       "      <td>01FEB2022</td>\n",
       "      <td>3844</td>\n",
       "      <td>IC 25</td>\n",
       "      <td>SNCB/NMBS</td>\n",
       "      <td>730</td>\n",
       "      <td>34</td>\n",
       "      <td>22:10:09</td>\n",
       "      <td>22:13:03</td>\n",
       "      <td>22:11:00</td>\n",
       "      <td>22:13:00</td>\n",
       "      <td>-51.0</td>\n",
       "      <td>3.0</td>\n",
       "      <td>IC 25: HERSTAL -&gt; MONS</td>\n",
       "      <td>LIEGE-SAINT-LAMBERT</td>\n",
       "      <td>34</td>\n",
       "      <td>01FEB2022</td>\n",
       "      <td>01FEB2022</td>\n",
       "      <td>01FEB2022</td>\n",
       "      <td>01FEB2022</td>\n",
       "    </tr>\n",
       "  </tbody>\n",
       "</table>\n",
       "</div>"
      ],
      "text/plain": [
       "      DATDEP  TRAIN_NO RELATION TRAIN_SERV  PTCAR_NO LINE_NO_DEP  \\\n",
       "0  01FEB2022     18446    EXTRA  SNCB/NMBS       726          37   \n",
       "1  01FEB2022     18446    EXTRA  SNCB/NMBS       208          40   \n",
       "2  01FEB2022     18446    EXTRA  SNCB/NMBS      1195         NaN   \n",
       "3  01FEB2022      3844    IC 25  SNCB/NMBS       562          34   \n",
       "4  01FEB2022      3844    IC 25  SNCB/NMBS       730          34   \n",
       "\n",
       "  REAL_TIME_ARR REAL_TIME_DEP PLANNED_TIME_ARR PLANNED_TIME_DEP  DELAY_ARR  \\\n",
       "0           NaN      19:10:33              NaN         19:10:00        NaN   \n",
       "1      19:17:29      19:18:03         19:17:00         19:18:00       29.0   \n",
       "2      19:26:55           NaN         19:28:00              NaN      -65.0   \n",
       "3           NaN      22:06:16              NaN         22:06:00        NaN   \n",
       "4      22:10:09      22:13:03         22:11:00         22:13:00      -51.0   \n",
       "\n",
       "   DELAY_DEP      RELATION_DIRECTION       PTCAR_LG_NM_NL LINE_NO_ARR  \\\n",
       "0       33.0                     NaN     LIEGE-GUILLEMINS         NaN   \n",
       "1        3.0                     NaN             BRESSOUX          40   \n",
       "2        NaN                     NaN                 VISE          40   \n",
       "3       16.0  IC 25: HERSTAL -> MONS              HERSTAL         NaN   \n",
       "4        3.0  IC 25: HERSTAL -> MONS  LIEGE-SAINT-LAMBERT          34   \n",
       "\n",
       "  PLANNED_DATE_ARR PLANNED_DATE_DEP REAL_DATE_ARR REAL_DATE_DEP  \n",
       "0              NaN        01FEB2022           NaN     01FEB2022  \n",
       "1        01FEB2022        01FEB2022     01FEB2022     01FEB2022  \n",
       "2        01FEB2022              NaN     01FEB2022           NaN  \n",
       "3              NaN        01FEB2022           NaN     01FEB2022  \n",
       "4        01FEB2022        01FEB2022     01FEB2022     01FEB2022  "
      ]
     },
     "execution_count": 2,
     "metadata": {},
     "output_type": "execute_result"
    }
   ],
   "source": [
    "df = pd.read_csv(\"Data_raw_punctuality_202202.csv\")\n",
    "df.head()"
   ]
  },
  {
   "cell_type": "code",
   "execution_count": 3,
   "metadata": {},
   "outputs": [
    {
     "data": {
      "text/plain": [
       "(1716175, 19)"
      ]
     },
     "execution_count": 3,
     "metadata": {},
     "output_type": "execute_result"
    }
   ],
   "source": [
    "df.shape"
   ]
  },
  {
   "cell_type": "markdown",
   "metadata": {},
   "source": [
    "The initial shape of the data in the month of **February** alone is 1,716,175 rows and 19 columns"
   ]
  },
  {
   "cell_type": "markdown",
   "metadata": {},
   "source": [
    "## Variable definition\n",
    "\n",
    "    DATDEP - Date of departure\n",
    "    TRAIN_NO - Train number\n",
    "    RELATION - Relation\n",
    "    TRAIN_SERV - Railway operator\n",
    "    PTCAR_NO - Measuring point number\n",
    "    LINE_NO_DEP - Departure line\n",
    "    REAL_TIME_ARR - Actual arrival time\n",
    "    REAL_TIME_DEP - Actual departure time\n",
    "    PLANNED_TIME_ARR - Planned arrival time\n",
    "    PLANNED_TIME_DEP - Planned departure time\n",
    "    DELAY_ARR - Delay at arrival\n",
    "    DELAY_DEP - Delay at departure\n",
    "    RELATION_DIRECTION - Relation direction\n",
    "    PTCAR_LG_NM_NL - Stopping place\n",
    "    LINE_NO_ARR - Arrival line\n",
    "    PLANNED_DATE_ARR - Planned arrival date\n",
    "    PLANNED_DATE_DEP - Planned departure date\n",
    "    REAL_DATE_ARR - Actual arrival date\n",
    "    REAL_DATE_DEP - Actual departure date"
   ]
  },
  {
   "cell_type": "code",
   "execution_count": 4,
   "metadata": {
    "scrolled": true
   },
   "outputs": [
    {
     "data": {
      "text/plain": [
       "DATDEP                     0\n",
       "TRAIN_NO                   0\n",
       "RELATION                   0\n",
       "TRAIN_SERV                 0\n",
       "PTCAR_NO                   0\n",
       "LINE_NO_DEP            83451\n",
       "REAL_TIME_ARR          83345\n",
       "REAL_TIME_DEP          83287\n",
       "PLANNED_TIME_ARR       83345\n",
       "PLANNED_TIME_DEP       83287\n",
       "DELAY_ARR              83344\n",
       "DELAY_DEP              83286\n",
       "RELATION_DIRECTION    112003\n",
       "PTCAR_LG_NM_NL             0\n",
       "LINE_NO_ARR            83511\n",
       "PLANNED_DATE_ARR       83345\n",
       "PLANNED_DATE_DEP       83287\n",
       "REAL_DATE_ARR          83345\n",
       "REAL_DATE_DEP          83287\n",
       "dtype: int64"
      ]
     },
     "execution_count": 4,
     "metadata": {},
     "output_type": "execute_result"
    }
   ],
   "source": [
    "df.isnull().sum()"
   ]
  },
  {
   "cell_type": "code",
   "execution_count": 5,
   "metadata": {
    "scrolled": true
   },
   "outputs": [
    {
     "name": "stdout",
     "output_type": "stream",
     "text": [
      "<class 'pandas.core.frame.DataFrame'>\n",
      "RangeIndex: 1716175 entries, 0 to 1716174\n",
      "Data columns (total 19 columns):\n",
      " #   Column              Dtype  \n",
      "---  ------              -----  \n",
      " 0   DATDEP              object \n",
      " 1   TRAIN_NO            int64  \n",
      " 2   RELATION            object \n",
      " 3   TRAIN_SERV          object \n",
      " 4   PTCAR_NO            int64  \n",
      " 5   LINE_NO_DEP         object \n",
      " 6   REAL_TIME_ARR       object \n",
      " 7   REAL_TIME_DEP       object \n",
      " 8   PLANNED_TIME_ARR    object \n",
      " 9   PLANNED_TIME_DEP    object \n",
      " 10  DELAY_ARR           float64\n",
      " 11  DELAY_DEP           float64\n",
      " 12  RELATION_DIRECTION  object \n",
      " 13  PTCAR_LG_NM_NL      object \n",
      " 14  LINE_NO_ARR         object \n",
      " 15  PLANNED_DATE_ARR    object \n",
      " 16  PLANNED_DATE_DEP    object \n",
      " 17  REAL_DATE_ARR       object \n",
      " 18  REAL_DATE_DEP       object \n",
      "dtypes: float64(2), int64(2), object(15)\n",
      "memory usage: 248.8+ MB\n"
     ]
    }
   ],
   "source": [
    "df.info()"
   ]
  },
  {
   "cell_type": "markdown",
   "metadata": {},
   "source": [
    "Based on the overview of the data, **df.RELATION_DIRECTION** is the path of the train. Without this prior knowledge for a certain row, it would be hard to continue it, that's why I am choosing to drop the rows with a null values.\n",
    "\n",
    "For the columns 'LINE_NO_DEP', 'REAL_TIME_ARR', 'LINE_NO_ARR', I will also drop them to make a better understanding of the data. Remember that the main feature of the prediction analysis is the 'REAL_TIME_ARR', 'REAL TIME_DEP', 'DELAY_ARR', 'DELAY_DEP'"
   ]
  },
  {
   "cell_type": "code",
   "execution_count": 6,
   "metadata": {},
   "outputs": [],
   "source": [
    "df = df.dropna(subset=['RELATION_DIRECTION', 'LINE_NO_DEP', 'REAL_TIME_ARR', 'LINE_NO_ARR'])"
   ]
  },
  {
   "cell_type": "code",
   "execution_count": 7,
   "metadata": {
    "scrolled": true
   },
   "outputs": [
    {
     "data": {
      "text/plain": [
       "DATDEP                0\n",
       "TRAIN_NO              0\n",
       "RELATION              0\n",
       "TRAIN_SERV            0\n",
       "PTCAR_NO              0\n",
       "LINE_NO_DEP           0\n",
       "REAL_TIME_ARR         0\n",
       "REAL_TIME_DEP         0\n",
       "PLANNED_TIME_ARR      0\n",
       "PLANNED_TIME_DEP      0\n",
       "DELAY_ARR             0\n",
       "DELAY_DEP             0\n",
       "RELATION_DIRECTION    0\n",
       "PTCAR_LG_NM_NL        0\n",
       "LINE_NO_ARR           0\n",
       "PLANNED_DATE_ARR      0\n",
       "PLANNED_DATE_DEP      0\n",
       "REAL_DATE_ARR         0\n",
       "REAL_DATE_DEP         0\n",
       "dtype: int64"
      ]
     },
     "execution_count": 7,
     "metadata": {},
     "output_type": "execute_result"
    }
   ],
   "source": [
    "df.isnull().sum()"
   ]
  },
  {
   "cell_type": "code",
   "execution_count": 8,
   "metadata": {
    "scrolled": true
   },
   "outputs": [
    {
     "name": "stdout",
     "output_type": "stream",
     "text": [
      "new df shape: (1457593, 19)\n"
     ]
    }
   ],
   "source": [
    "print(\"new df shape:\", df.shape)"
   ]
  },
  {
   "cell_type": "markdown",
   "metadata": {},
   "source": [
    "1,457,593 is still a good number of rows for the month of February"
   ]
  },
  {
   "cell_type": "markdown",
   "metadata": {},
   "source": [
    "## Data Transformation\n",
    "\n",
    "\n",
    "- The following 4 columns can be transformed from object into Time dtype:\n",
    "\n",
    "        REAL_TIME_ARR, REAL_TIME_DEP, PLANNED_TIME_ARR, PLANNED_TIME_DEP\n",
    "    \n",
    "- The following columns can be transformed into a Date object:\n",
    "\n",
    "        DATDEP, PLANNED_DATE_ARR, PLANNED_DATE_DEP, REAL_DATE_ARR, REAL_DATE_DEP \n",
    "     \n",
    "- The following columns are candidates to have categorical values:\n",
    "\n",
    "        TRAIN_NO, RELATION, TRAIN_SERV"
   ]
  },
  {
   "cell_type": "code",
   "execution_count": 9,
   "metadata": {},
   "outputs": [],
   "source": [
    "#converting the object type to Hour:Minute:Second datetime type\n",
    "df.REAL_TIME_ARR = pd.to_datetime(df.REAL_TIME_ARR, format='%H:%M:%S').dt.time\n",
    "df.REAL_TIME_DEP = pd.to_datetime(df.REAL_TIME_DEP, format='%H:%M:%S').dt.time\n",
    "df.PLANNED_TIME_ARR = pd.to_datetime(df.PLANNED_TIME_ARR, format='%H:%M:%S').dt.time\n",
    "df.PLANNED_TIME_DEP = pd.to_datetime(df.PLANNED_TIME_DEP, format='%H:%M:%S').dt.time\n",
    "\n",
    "#converting the object type (01FEB2022) to %d%b%Y (2022-02-01) datetime type\n",
    "df.DATDEP = pd.to_datetime(df.DATDEP, format='%d%b%Y')\n",
    "df.PLANNED_DATE_ARR = pd.to_datetime(df.PLANNED_DATE_ARR, format=\"%d%b%Y\")\n",
    "df.PLANNED_DATE_DEP = pd.to_datetime(df.PLANNED_DATE_DEP, format=\"%d%b%Y\")\n",
    "df.REAL_DATE_ARR = pd.to_datetime(df.REAL_DATE_ARR, format='%d%b%Y')\n",
    "df.REAL_DATE_DEP = pd.to_datetime(df.REAL_DATE_DEP, format='%d%b%Y')\n",
    "\n",
    "#converting some types to a object to categorical type, since categorical consumes less memory\n",
    "df.TRAIN_NO = pd.Categorical(df.TRAIN_NO)\n",
    "df.RELATION = pd.Categorical(df.RELATION)\n",
    "df.TRAIN_SERV = pd.Categorical(df.TRAIN_SERV)"
   ]
  },
  {
   "cell_type": "code",
   "execution_count": 10,
   "metadata": {},
   "outputs": [
    {
     "name": "stdout",
     "output_type": "stream",
     "text": [
      "<class 'pandas.core.frame.DataFrame'>\n",
      "Int64Index: 1457593 entries, 4 to 1716088\n",
      "Data columns (total 19 columns):\n",
      " #   Column              Non-Null Count    Dtype         \n",
      "---  ------              --------------    -----         \n",
      " 0   DATDEP              1457593 non-null  datetime64[ns]\n",
      " 1   TRAIN_NO            1457593 non-null  category      \n",
      " 2   RELATION            1457593 non-null  category      \n",
      " 3   TRAIN_SERV          1457593 non-null  category      \n",
      " 4   PTCAR_NO            1457593 non-null  int64         \n",
      " 5   LINE_NO_DEP         1457593 non-null  object        \n",
      " 6   REAL_TIME_ARR       1457593 non-null  object        \n",
      " 7   REAL_TIME_DEP       1457593 non-null  object        \n",
      " 8   PLANNED_TIME_ARR    1457593 non-null  object        \n",
      " 9   PLANNED_TIME_DEP    1457593 non-null  object        \n",
      " 10  DELAY_ARR           1457593 non-null  float64       \n",
      " 11  DELAY_DEP           1457593 non-null  float64       \n",
      " 12  RELATION_DIRECTION  1457593 non-null  object        \n",
      " 13  PTCAR_LG_NM_NL      1457593 non-null  object        \n",
      " 14  LINE_NO_ARR         1457593 non-null  object        \n",
      " 15  PLANNED_DATE_ARR    1457593 non-null  datetime64[ns]\n",
      " 16  PLANNED_DATE_DEP    1457593 non-null  datetime64[ns]\n",
      " 17  REAL_DATE_ARR       1457593 non-null  datetime64[ns]\n",
      " 18  REAL_DATE_DEP       1457593 non-null  datetime64[ns]\n",
      "dtypes: category(3), datetime64[ns](5), float64(2), int64(1), object(8)\n",
      "memory usage: 194.8+ MB\n"
     ]
    }
   ],
   "source": [
    "df.info()"
   ]
  },
  {
   "cell_type": "code",
   "execution_count": 11,
   "metadata": {
    "scrolled": true
   },
   "outputs": [
    {
     "data": {
      "text/html": [
       "<div>\n",
       "<style scoped>\n",
       "    .dataframe tbody tr th:only-of-type {\n",
       "        vertical-align: middle;\n",
       "    }\n",
       "\n",
       "    .dataframe tbody tr th {\n",
       "        vertical-align: top;\n",
       "    }\n",
       "\n",
       "    .dataframe thead th {\n",
       "        text-align: right;\n",
       "    }\n",
       "</style>\n",
       "<table border=\"1\" class=\"dataframe\">\n",
       "  <thead>\n",
       "    <tr style=\"text-align: right;\">\n",
       "      <th></th>\n",
       "      <th>DATDEP</th>\n",
       "      <th>TRAIN_NO</th>\n",
       "      <th>RELATION</th>\n",
       "      <th>TRAIN_SERV</th>\n",
       "      <th>PTCAR_NO</th>\n",
       "      <th>LINE_NO_DEP</th>\n",
       "      <th>REAL_TIME_ARR</th>\n",
       "      <th>REAL_TIME_DEP</th>\n",
       "      <th>PLANNED_TIME_ARR</th>\n",
       "      <th>PLANNED_TIME_DEP</th>\n",
       "      <th>DELAY_ARR</th>\n",
       "      <th>DELAY_DEP</th>\n",
       "      <th>RELATION_DIRECTION</th>\n",
       "      <th>PTCAR_LG_NM_NL</th>\n",
       "      <th>LINE_NO_ARR</th>\n",
       "      <th>PLANNED_DATE_ARR</th>\n",
       "      <th>PLANNED_DATE_DEP</th>\n",
       "      <th>REAL_DATE_ARR</th>\n",
       "      <th>REAL_DATE_DEP</th>\n",
       "    </tr>\n",
       "  </thead>\n",
       "  <tbody>\n",
       "    <tr>\n",
       "      <th>1716084</th>\n",
       "      <td>2022-02-28</td>\n",
       "      <td>836</td>\n",
       "      <td>IC 32</td>\n",
       "      <td>SNCB/NMBS</td>\n",
       "      <td>606</td>\n",
       "      <td>66</td>\n",
       "      <td>15:29:17</td>\n",
       "      <td>15:29:55</td>\n",
       "      <td>15:29:00</td>\n",
       "      <td>15:30:00</td>\n",
       "      <td>17.0</td>\n",
       "      <td>-5.0</td>\n",
       "      <td>IC 32: KORTRIJK -&gt; BRUGGE</td>\n",
       "      <td>IZEGEM</td>\n",
       "      <td>66</td>\n",
       "      <td>2022-02-28</td>\n",
       "      <td>2022-02-28</td>\n",
       "      <td>2022-02-28</td>\n",
       "      <td>2022-02-28</td>\n",
       "    </tr>\n",
       "    <tr>\n",
       "      <th>1716085</th>\n",
       "      <td>2022-02-28</td>\n",
       "      <td>836</td>\n",
       "      <td>IC 32</td>\n",
       "      <td>SNCB/NMBS</td>\n",
       "      <td>1005</td>\n",
       "      <td>66</td>\n",
       "      <td>15:34:55</td>\n",
       "      <td>15:36:36</td>\n",
       "      <td>15:35:00</td>\n",
       "      <td>15:36:00</td>\n",
       "      <td>-5.0</td>\n",
       "      <td>36.0</td>\n",
       "      <td>IC 32: KORTRIJK -&gt; BRUGGE</td>\n",
       "      <td>ROESELARE</td>\n",
       "      <td>66</td>\n",
       "      <td>2022-02-28</td>\n",
       "      <td>2022-02-28</td>\n",
       "      <td>2022-02-28</td>\n",
       "      <td>2022-02-28</td>\n",
       "    </tr>\n",
       "    <tr>\n",
       "      <th>1716086</th>\n",
       "      <td>2022-02-28</td>\n",
       "      <td>836</td>\n",
       "      <td>IC 32</td>\n",
       "      <td>SNCB/NMBS</td>\n",
       "      <td>724</td>\n",
       "      <td>66</td>\n",
       "      <td>15:42:14</td>\n",
       "      <td>15:43:22</td>\n",
       "      <td>15:42:00</td>\n",
       "      <td>15:43:00</td>\n",
       "      <td>14.0</td>\n",
       "      <td>22.0</td>\n",
       "      <td>IC 32: KORTRIJK -&gt; BRUGGE</td>\n",
       "      <td>LICHTERVELDE</td>\n",
       "      <td>66</td>\n",
       "      <td>2022-02-28</td>\n",
       "      <td>2022-02-28</td>\n",
       "      <td>2022-02-28</td>\n",
       "      <td>2022-02-28</td>\n",
       "    </tr>\n",
       "    <tr>\n",
       "      <th>1716087</th>\n",
       "      <td>2022-02-28</td>\n",
       "      <td>836</td>\n",
       "      <td>IC 32</td>\n",
       "      <td>SNCB/NMBS</td>\n",
       "      <td>1152</td>\n",
       "      <td>66</td>\n",
       "      <td>15:47:03</td>\n",
       "      <td>15:48:06</td>\n",
       "      <td>15:47:00</td>\n",
       "      <td>15:48:00</td>\n",
       "      <td>3.0</td>\n",
       "      <td>6.0</td>\n",
       "      <td>IC 32: KORTRIJK -&gt; BRUGGE</td>\n",
       "      <td>TORHOUT</td>\n",
       "      <td>66</td>\n",
       "      <td>2022-02-28</td>\n",
       "      <td>2022-02-28</td>\n",
       "      <td>2022-02-28</td>\n",
       "      <td>2022-02-28</td>\n",
       "    </tr>\n",
       "    <tr>\n",
       "      <th>1716088</th>\n",
       "      <td>2022-02-28</td>\n",
       "      <td>836</td>\n",
       "      <td>IC 32</td>\n",
       "      <td>SNCB/NMBS</td>\n",
       "      <td>1261</td>\n",
       "      <td>66</td>\n",
       "      <td>15:53:32</td>\n",
       "      <td>15:53:32</td>\n",
       "      <td>15:54:00</td>\n",
       "      <td>15:55:00</td>\n",
       "      <td>-28.0</td>\n",
       "      <td>-88.0</td>\n",
       "      <td>IC 32: KORTRIJK -&gt; BRUGGE</td>\n",
       "      <td>ZEDELGEM</td>\n",
       "      <td>66</td>\n",
       "      <td>2022-02-28</td>\n",
       "      <td>2022-02-28</td>\n",
       "      <td>2022-02-28</td>\n",
       "      <td>2022-02-28</td>\n",
       "    </tr>\n",
       "  </tbody>\n",
       "</table>\n",
       "</div>"
      ],
      "text/plain": [
       "            DATDEP TRAIN_NO RELATION TRAIN_SERV  PTCAR_NO LINE_NO_DEP  \\\n",
       "1716084 2022-02-28      836    IC 32  SNCB/NMBS       606          66   \n",
       "1716085 2022-02-28      836    IC 32  SNCB/NMBS      1005          66   \n",
       "1716086 2022-02-28      836    IC 32  SNCB/NMBS       724          66   \n",
       "1716087 2022-02-28      836    IC 32  SNCB/NMBS      1152          66   \n",
       "1716088 2022-02-28      836    IC 32  SNCB/NMBS      1261          66   \n",
       "\n",
       "        REAL_TIME_ARR REAL_TIME_DEP PLANNED_TIME_ARR PLANNED_TIME_DEP  \\\n",
       "1716084      15:29:17      15:29:55         15:29:00         15:30:00   \n",
       "1716085      15:34:55      15:36:36         15:35:00         15:36:00   \n",
       "1716086      15:42:14      15:43:22         15:42:00         15:43:00   \n",
       "1716087      15:47:03      15:48:06         15:47:00         15:48:00   \n",
       "1716088      15:53:32      15:53:32         15:54:00         15:55:00   \n",
       "\n",
       "         DELAY_ARR  DELAY_DEP         RELATION_DIRECTION PTCAR_LG_NM_NL  \\\n",
       "1716084       17.0       -5.0  IC 32: KORTRIJK -> BRUGGE         IZEGEM   \n",
       "1716085       -5.0       36.0  IC 32: KORTRIJK -> BRUGGE      ROESELARE   \n",
       "1716086       14.0       22.0  IC 32: KORTRIJK -> BRUGGE   LICHTERVELDE   \n",
       "1716087        3.0        6.0  IC 32: KORTRIJK -> BRUGGE        TORHOUT   \n",
       "1716088      -28.0      -88.0  IC 32: KORTRIJK -> BRUGGE       ZEDELGEM   \n",
       "\n",
       "        LINE_NO_ARR PLANNED_DATE_ARR PLANNED_DATE_DEP REAL_DATE_ARR  \\\n",
       "1716084          66       2022-02-28       2022-02-28    2022-02-28   \n",
       "1716085          66       2022-02-28       2022-02-28    2022-02-28   \n",
       "1716086          66       2022-02-28       2022-02-28    2022-02-28   \n",
       "1716087          66       2022-02-28       2022-02-28    2022-02-28   \n",
       "1716088          66       2022-02-28       2022-02-28    2022-02-28   \n",
       "\n",
       "        REAL_DATE_DEP  \n",
       "1716084    2022-02-28  \n",
       "1716085    2022-02-28  \n",
       "1716086    2022-02-28  \n",
       "1716087    2022-02-28  \n",
       "1716088    2022-02-28  "
      ]
     },
     "execution_count": 11,
     "metadata": {},
     "output_type": "execute_result"
    }
   ],
   "source": [
    "df.tail(5)"
   ]
  },
  {
   "cell_type": "markdown",
   "metadata": {},
   "source": [
    "I think for the df.RELATION_DIRECTION value example \"IC 32: KORTRIJK -> BRUGGE\" \n",
    "1. We need to remove the IC 32 since that is already found in the df.RELATION column. \n",
    "2. We need to create a new column name \"ORIGIN\" for \"KORTRIJK\"\n",
    "3. We need to create a new column name \"DESTINATION\" for BRUGGE\n",
    "4. We need to know the day of the week, I believe this might be a good indicator for a delays in train\n",
    "\n",
    "Based on my research it seems like PTCAR_LG_NM_NL is the station/s before the destination. So some has only one, and a greated distance will have more stations. I believe greater distance train travel is more susceptible in train delays\n",
    "\n"
   ]
  },
  {
   "cell_type": "code",
   "execution_count": 12,
   "metadata": {},
   "outputs": [],
   "source": [
    "#Remove the strings before \":\" using lambda function\n",
    "df.RELATION_DIRECTION = df.RELATION_DIRECTION.apply(lambda x: x.split(\": \")[1])\n",
    "\n",
    "#Creating new variable 'ORIGIN'\n",
    "df['ORIGIN'] = df.RELATION_DIRECTION.apply(lambda x: x.split(\" ->\")[0])\n",
    "\n",
    "#Creating new variable 'DESTINATION'\n",
    "df['DESTINATION'] = df.RELATION_DIRECTION.apply(lambda x: x.split( \"> \")[1])\n",
    "\n",
    "# dropping the RELATION_DIRECTION for now\n",
    "df = df.drop(\"RELATION_DIRECTION\", axis=1)\n",
    "\n",
    "#Creating new variable DAY_OF_THE_WEEK \n",
    "df[\"DAY_OF_THE_WEEK\"] = df[\"REAL_DATE_ARR\"].apply(lambda x: x.strftime(\"%A\"))\n",
    "\n",
    "#Creating new variable DELAYED to visualize the data clearly\n",
    "df['DELAYED'] = df.DELAY_ARR.apply(lambda x: x > 0)"
   ]
  },
  {
   "cell_type": "code",
   "execution_count": 13,
   "metadata": {
    "scrolled": true
   },
   "outputs": [
    {
     "data": {
      "text/html": [
       "<div>\n",
       "<style scoped>\n",
       "    .dataframe tbody tr th:only-of-type {\n",
       "        vertical-align: middle;\n",
       "    }\n",
       "\n",
       "    .dataframe tbody tr th {\n",
       "        vertical-align: top;\n",
       "    }\n",
       "\n",
       "    .dataframe thead th {\n",
       "        text-align: right;\n",
       "    }\n",
       "</style>\n",
       "<table border=\"1\" class=\"dataframe\">\n",
       "  <thead>\n",
       "    <tr style=\"text-align: right;\">\n",
       "      <th></th>\n",
       "      <th>DATDEP</th>\n",
       "      <th>TRAIN_NO</th>\n",
       "      <th>RELATION</th>\n",
       "      <th>TRAIN_SERV</th>\n",
       "      <th>PTCAR_NO</th>\n",
       "      <th>LINE_NO_DEP</th>\n",
       "      <th>REAL_TIME_ARR</th>\n",
       "      <th>REAL_TIME_DEP</th>\n",
       "      <th>PLANNED_TIME_ARR</th>\n",
       "      <th>PLANNED_TIME_DEP</th>\n",
       "      <th>...</th>\n",
       "      <th>PTCAR_LG_NM_NL</th>\n",
       "      <th>LINE_NO_ARR</th>\n",
       "      <th>PLANNED_DATE_ARR</th>\n",
       "      <th>PLANNED_DATE_DEP</th>\n",
       "      <th>REAL_DATE_ARR</th>\n",
       "      <th>REAL_DATE_DEP</th>\n",
       "      <th>ORIGIN</th>\n",
       "      <th>DESTINATION</th>\n",
       "      <th>DAY_OF_THE_WEEK</th>\n",
       "      <th>DELAYED</th>\n",
       "    </tr>\n",
       "  </thead>\n",
       "  <tbody>\n",
       "    <tr>\n",
       "      <th>4</th>\n",
       "      <td>2022-02-01</td>\n",
       "      <td>3844</td>\n",
       "      <td>IC 25</td>\n",
       "      <td>SNCB/NMBS</td>\n",
       "      <td>730</td>\n",
       "      <td>34</td>\n",
       "      <td>22:10:09</td>\n",
       "      <td>22:13:03</td>\n",
       "      <td>22:11:00</td>\n",
       "      <td>22:13:00</td>\n",
       "      <td>...</td>\n",
       "      <td>LIEGE-SAINT-LAMBERT</td>\n",
       "      <td>34</td>\n",
       "      <td>2022-02-01</td>\n",
       "      <td>2022-02-01</td>\n",
       "      <td>2022-02-01</td>\n",
       "      <td>2022-02-01</td>\n",
       "      <td>HERSTAL</td>\n",
       "      <td>MONS</td>\n",
       "      <td>Tuesday</td>\n",
       "      <td>False</td>\n",
       "    </tr>\n",
       "    <tr>\n",
       "      <th>5</th>\n",
       "      <td>2022-02-01</td>\n",
       "      <td>3844</td>\n",
       "      <td>IC 25</td>\n",
       "      <td>SNCB/NMBS</td>\n",
       "      <td>728</td>\n",
       "      <td>34</td>\n",
       "      <td>22:16:03</td>\n",
       "      <td>22:17:09</td>\n",
       "      <td>22:16:00</td>\n",
       "      <td>22:17:00</td>\n",
       "      <td>...</td>\n",
       "      <td>LIEGE-CARRE</td>\n",
       "      <td>34</td>\n",
       "      <td>2022-02-01</td>\n",
       "      <td>2022-02-01</td>\n",
       "      <td>2022-02-01</td>\n",
       "      <td>2022-02-01</td>\n",
       "      <td>HERSTAL</td>\n",
       "      <td>MONS</td>\n",
       "      <td>Tuesday</td>\n",
       "      <td>True</td>\n",
       "    </tr>\n",
       "    <tr>\n",
       "      <th>6</th>\n",
       "      <td>2022-02-01</td>\n",
       "      <td>3844</td>\n",
       "      <td>IC 25</td>\n",
       "      <td>SNCB/NMBS</td>\n",
       "      <td>726</td>\n",
       "      <td>125</td>\n",
       "      <td>22:21:09</td>\n",
       "      <td>22:24:57</td>\n",
       "      <td>22:21:00</td>\n",
       "      <td>22:24:00</td>\n",
       "      <td>...</td>\n",
       "      <td>LIEGE-GUILLEMINS</td>\n",
       "      <td>34</td>\n",
       "      <td>2022-02-01</td>\n",
       "      <td>2022-02-01</td>\n",
       "      <td>2022-02-01</td>\n",
       "      <td>2022-02-01</td>\n",
       "      <td>HERSTAL</td>\n",
       "      <td>MONS</td>\n",
       "      <td>Tuesday</td>\n",
       "      <td>True</td>\n",
       "    </tr>\n",
       "    <tr>\n",
       "      <th>7</th>\n",
       "      <td>2022-02-01</td>\n",
       "      <td>3844</td>\n",
       "      <td>IC 25</td>\n",
       "      <td>SNCB/NMBS</td>\n",
       "      <td>1063</td>\n",
       "      <td>125</td>\n",
       "      <td>22:26:57</td>\n",
       "      <td>22:26:57</td>\n",
       "      <td>22:26:00</td>\n",
       "      <td>22:26:00</td>\n",
       "      <td>...</td>\n",
       "      <td>SCLESSIN</td>\n",
       "      <td>125</td>\n",
       "      <td>2022-02-01</td>\n",
       "      <td>2022-02-01</td>\n",
       "      <td>2022-02-01</td>\n",
       "      <td>2022-02-01</td>\n",
       "      <td>HERSTAL</td>\n",
       "      <td>MONS</td>\n",
       "      <td>Tuesday</td>\n",
       "      <td>True</td>\n",
       "    </tr>\n",
       "    <tr>\n",
       "      <th>8</th>\n",
       "      <td>2022-02-01</td>\n",
       "      <td>3844</td>\n",
       "      <td>IC 25</td>\n",
       "      <td>SNCB/NMBS</td>\n",
       "      <td>1148</td>\n",
       "      <td>125</td>\n",
       "      <td>22:29:07</td>\n",
       "      <td>22:29:07</td>\n",
       "      <td>22:28:00</td>\n",
       "      <td>22:28:00</td>\n",
       "      <td>...</td>\n",
       "      <td>TILLEUR</td>\n",
       "      <td>125</td>\n",
       "      <td>2022-02-01</td>\n",
       "      <td>2022-02-01</td>\n",
       "      <td>2022-02-01</td>\n",
       "      <td>2022-02-01</td>\n",
       "      <td>HERSTAL</td>\n",
       "      <td>MONS</td>\n",
       "      <td>Tuesday</td>\n",
       "      <td>True</td>\n",
       "    </tr>\n",
       "  </tbody>\n",
       "</table>\n",
       "<p>5 rows × 22 columns</p>\n",
       "</div>"
      ],
      "text/plain": [
       "      DATDEP TRAIN_NO RELATION TRAIN_SERV  PTCAR_NO LINE_NO_DEP REAL_TIME_ARR  \\\n",
       "4 2022-02-01     3844    IC 25  SNCB/NMBS       730          34      22:10:09   \n",
       "5 2022-02-01     3844    IC 25  SNCB/NMBS       728          34      22:16:03   \n",
       "6 2022-02-01     3844    IC 25  SNCB/NMBS       726         125      22:21:09   \n",
       "7 2022-02-01     3844    IC 25  SNCB/NMBS      1063         125      22:26:57   \n",
       "8 2022-02-01     3844    IC 25  SNCB/NMBS      1148         125      22:29:07   \n",
       "\n",
       "  REAL_TIME_DEP PLANNED_TIME_ARR PLANNED_TIME_DEP  ...       PTCAR_LG_NM_NL  \\\n",
       "4      22:13:03         22:11:00         22:13:00  ...  LIEGE-SAINT-LAMBERT   \n",
       "5      22:17:09         22:16:00         22:17:00  ...          LIEGE-CARRE   \n",
       "6      22:24:57         22:21:00         22:24:00  ...     LIEGE-GUILLEMINS   \n",
       "7      22:26:57         22:26:00         22:26:00  ...             SCLESSIN   \n",
       "8      22:29:07         22:28:00         22:28:00  ...              TILLEUR   \n",
       "\n",
       "   LINE_NO_ARR PLANNED_DATE_ARR PLANNED_DATE_DEP REAL_DATE_ARR REAL_DATE_DEP  \\\n",
       "4           34       2022-02-01       2022-02-01    2022-02-01    2022-02-01   \n",
       "5           34       2022-02-01       2022-02-01    2022-02-01    2022-02-01   \n",
       "6           34       2022-02-01       2022-02-01    2022-02-01    2022-02-01   \n",
       "7          125       2022-02-01       2022-02-01    2022-02-01    2022-02-01   \n",
       "8          125       2022-02-01       2022-02-01    2022-02-01    2022-02-01   \n",
       "\n",
       "    ORIGIN DESTINATION DAY_OF_THE_WEEK DELAYED  \n",
       "4  HERSTAL        MONS         Tuesday   False  \n",
       "5  HERSTAL        MONS         Tuesday    True  \n",
       "6  HERSTAL        MONS         Tuesday    True  \n",
       "7  HERSTAL        MONS         Tuesday    True  \n",
       "8  HERSTAL        MONS         Tuesday    True  \n",
       "\n",
       "[5 rows x 22 columns]"
      ]
     },
     "execution_count": 13,
     "metadata": {},
     "output_type": "execute_result"
    }
   ],
   "source": [
    "df.head(5)"
   ]
  },
  {
   "cell_type": "markdown",
   "metadata": {},
   "source": [
    "### NOTE:\n",
    "In the new dataframe above, we will atleast know which location (origin, station, destination) we need to gather for the exdogenous data, like weather and population that we will use in modelling"
   ]
  },
  {
   "cell_type": "markdown",
   "metadata": {},
   "source": [
    "**Questions in mind, how about we split the data in terms of the operators, then splitting it again to find:**\n",
    "1. how many trains are delayed ( DELAY_ARR is positive), \n",
    "2. the average delay time \n",
    "3. Major train location of delays\n",
    "4. Sort the delays in terms of day of the week"
   ]
  },
  {
   "cell_type": "code",
   "execution_count": 14,
   "metadata": {},
   "outputs": [
    {
     "data": {
      "text/plain": [
       "['SNCB/NMBS', 'EUROSTARFR', 'THI-FACT']\n",
       "Categories (3, object): ['EUROSTARFR', 'SNCB/NMBS', 'THI-FACT']"
      ]
     },
     "execution_count": 14,
     "metadata": {},
     "output_type": "execute_result"
    }
   ],
   "source": [
    "#finding the operators\n",
    "df.TRAIN_SERV.unique()"
   ]
  },
  {
   "cell_type": "markdown",
   "metadata": {},
   "source": [
    "### 1. SNCB/NBMS Train Operator"
   ]
  },
  {
   "cell_type": "code",
   "execution_count": 15,
   "metadata": {},
   "outputs": [
    {
     "data": {
      "text/plain": [
       "(1444342, 22)"
      ]
     },
     "execution_count": 15,
     "metadata": {},
     "output_type": "execute_result"
    }
   ],
   "source": [
    "#creating a new df for each operators\n",
    "\n",
    "TRAIN_SNCB = df[df[\"TRAIN_SERV\"] == \"SNCB/NMBS\"]\n",
    "TRAIN_SNCB.shape"
   ]
  },
  {
   "cell_type": "markdown",
   "metadata": {},
   "source": [
    "**The SNCB/NMBS operator seems to be the major source of the data**"
   ]
  },
  {
   "cell_type": "code",
   "execution_count": 16,
   "metadata": {
    "scrolled": true
   },
   "outputs": [
    {
     "data": {
      "text/html": [
       "<div>\n",
       "<style scoped>\n",
       "    .dataframe tbody tr th:only-of-type {\n",
       "        vertical-align: middle;\n",
       "    }\n",
       "\n",
       "    .dataframe tbody tr th {\n",
       "        vertical-align: top;\n",
       "    }\n",
       "\n",
       "    .dataframe thead th {\n",
       "        text-align: right;\n",
       "    }\n",
       "</style>\n",
       "<table border=\"1\" class=\"dataframe\">\n",
       "  <thead>\n",
       "    <tr style=\"text-align: right;\">\n",
       "      <th></th>\n",
       "      <th>DATDEP</th>\n",
       "      <th>TRAIN_NO</th>\n",
       "      <th>RELATION</th>\n",
       "      <th>TRAIN_SERV</th>\n",
       "      <th>PTCAR_NO</th>\n",
       "      <th>LINE_NO_DEP</th>\n",
       "      <th>REAL_TIME_ARR</th>\n",
       "      <th>REAL_TIME_DEP</th>\n",
       "      <th>PLANNED_TIME_ARR</th>\n",
       "      <th>PLANNED_TIME_DEP</th>\n",
       "      <th>...</th>\n",
       "      <th>PTCAR_LG_NM_NL</th>\n",
       "      <th>LINE_NO_ARR</th>\n",
       "      <th>PLANNED_DATE_ARR</th>\n",
       "      <th>PLANNED_DATE_DEP</th>\n",
       "      <th>REAL_DATE_ARR</th>\n",
       "      <th>REAL_DATE_DEP</th>\n",
       "      <th>ORIGIN</th>\n",
       "      <th>DESTINATION</th>\n",
       "      <th>DAY_OF_THE_WEEK</th>\n",
       "      <th>DELAYED</th>\n",
       "    </tr>\n",
       "  </thead>\n",
       "  <tbody>\n",
       "    <tr>\n",
       "      <th>4</th>\n",
       "      <td>2022-02-01</td>\n",
       "      <td>3844</td>\n",
       "      <td>IC 25</td>\n",
       "      <td>SNCB/NMBS</td>\n",
       "      <td>730</td>\n",
       "      <td>34</td>\n",
       "      <td>22:10:09</td>\n",
       "      <td>22:13:03</td>\n",
       "      <td>22:11:00</td>\n",
       "      <td>22:13:00</td>\n",
       "      <td>...</td>\n",
       "      <td>LIEGE-SAINT-LAMBERT</td>\n",
       "      <td>34</td>\n",
       "      <td>2022-02-01</td>\n",
       "      <td>2022-02-01</td>\n",
       "      <td>2022-02-01</td>\n",
       "      <td>2022-02-01</td>\n",
       "      <td>HERSTAL</td>\n",
       "      <td>MONS</td>\n",
       "      <td>Tuesday</td>\n",
       "      <td>False</td>\n",
       "    </tr>\n",
       "    <tr>\n",
       "      <th>5</th>\n",
       "      <td>2022-02-01</td>\n",
       "      <td>3844</td>\n",
       "      <td>IC 25</td>\n",
       "      <td>SNCB/NMBS</td>\n",
       "      <td>728</td>\n",
       "      <td>34</td>\n",
       "      <td>22:16:03</td>\n",
       "      <td>22:17:09</td>\n",
       "      <td>22:16:00</td>\n",
       "      <td>22:17:00</td>\n",
       "      <td>...</td>\n",
       "      <td>LIEGE-CARRE</td>\n",
       "      <td>34</td>\n",
       "      <td>2022-02-01</td>\n",
       "      <td>2022-02-01</td>\n",
       "      <td>2022-02-01</td>\n",
       "      <td>2022-02-01</td>\n",
       "      <td>HERSTAL</td>\n",
       "      <td>MONS</td>\n",
       "      <td>Tuesday</td>\n",
       "      <td>True</td>\n",
       "    </tr>\n",
       "    <tr>\n",
       "      <th>6</th>\n",
       "      <td>2022-02-01</td>\n",
       "      <td>3844</td>\n",
       "      <td>IC 25</td>\n",
       "      <td>SNCB/NMBS</td>\n",
       "      <td>726</td>\n",
       "      <td>125</td>\n",
       "      <td>22:21:09</td>\n",
       "      <td>22:24:57</td>\n",
       "      <td>22:21:00</td>\n",
       "      <td>22:24:00</td>\n",
       "      <td>...</td>\n",
       "      <td>LIEGE-GUILLEMINS</td>\n",
       "      <td>34</td>\n",
       "      <td>2022-02-01</td>\n",
       "      <td>2022-02-01</td>\n",
       "      <td>2022-02-01</td>\n",
       "      <td>2022-02-01</td>\n",
       "      <td>HERSTAL</td>\n",
       "      <td>MONS</td>\n",
       "      <td>Tuesday</td>\n",
       "      <td>True</td>\n",
       "    </tr>\n",
       "    <tr>\n",
       "      <th>7</th>\n",
       "      <td>2022-02-01</td>\n",
       "      <td>3844</td>\n",
       "      <td>IC 25</td>\n",
       "      <td>SNCB/NMBS</td>\n",
       "      <td>1063</td>\n",
       "      <td>125</td>\n",
       "      <td>22:26:57</td>\n",
       "      <td>22:26:57</td>\n",
       "      <td>22:26:00</td>\n",
       "      <td>22:26:00</td>\n",
       "      <td>...</td>\n",
       "      <td>SCLESSIN</td>\n",
       "      <td>125</td>\n",
       "      <td>2022-02-01</td>\n",
       "      <td>2022-02-01</td>\n",
       "      <td>2022-02-01</td>\n",
       "      <td>2022-02-01</td>\n",
       "      <td>HERSTAL</td>\n",
       "      <td>MONS</td>\n",
       "      <td>Tuesday</td>\n",
       "      <td>True</td>\n",
       "    </tr>\n",
       "    <tr>\n",
       "      <th>8</th>\n",
       "      <td>2022-02-01</td>\n",
       "      <td>3844</td>\n",
       "      <td>IC 25</td>\n",
       "      <td>SNCB/NMBS</td>\n",
       "      <td>1148</td>\n",
       "      <td>125</td>\n",
       "      <td>22:29:07</td>\n",
       "      <td>22:29:07</td>\n",
       "      <td>22:28:00</td>\n",
       "      <td>22:28:00</td>\n",
       "      <td>...</td>\n",
       "      <td>TILLEUR</td>\n",
       "      <td>125</td>\n",
       "      <td>2022-02-01</td>\n",
       "      <td>2022-02-01</td>\n",
       "      <td>2022-02-01</td>\n",
       "      <td>2022-02-01</td>\n",
       "      <td>HERSTAL</td>\n",
       "      <td>MONS</td>\n",
       "      <td>Tuesday</td>\n",
       "      <td>True</td>\n",
       "    </tr>\n",
       "  </tbody>\n",
       "</table>\n",
       "<p>5 rows × 22 columns</p>\n",
       "</div>"
      ],
      "text/plain": [
       "      DATDEP TRAIN_NO RELATION TRAIN_SERV  PTCAR_NO LINE_NO_DEP REAL_TIME_ARR  \\\n",
       "4 2022-02-01     3844    IC 25  SNCB/NMBS       730          34      22:10:09   \n",
       "5 2022-02-01     3844    IC 25  SNCB/NMBS       728          34      22:16:03   \n",
       "6 2022-02-01     3844    IC 25  SNCB/NMBS       726         125      22:21:09   \n",
       "7 2022-02-01     3844    IC 25  SNCB/NMBS      1063         125      22:26:57   \n",
       "8 2022-02-01     3844    IC 25  SNCB/NMBS      1148         125      22:29:07   \n",
       "\n",
       "  REAL_TIME_DEP PLANNED_TIME_ARR PLANNED_TIME_DEP  ...       PTCAR_LG_NM_NL  \\\n",
       "4      22:13:03         22:11:00         22:13:00  ...  LIEGE-SAINT-LAMBERT   \n",
       "5      22:17:09         22:16:00         22:17:00  ...          LIEGE-CARRE   \n",
       "6      22:24:57         22:21:00         22:24:00  ...     LIEGE-GUILLEMINS   \n",
       "7      22:26:57         22:26:00         22:26:00  ...             SCLESSIN   \n",
       "8      22:29:07         22:28:00         22:28:00  ...              TILLEUR   \n",
       "\n",
       "   LINE_NO_ARR PLANNED_DATE_ARR PLANNED_DATE_DEP REAL_DATE_ARR REAL_DATE_DEP  \\\n",
       "4           34       2022-02-01       2022-02-01    2022-02-01    2022-02-01   \n",
       "5           34       2022-02-01       2022-02-01    2022-02-01    2022-02-01   \n",
       "6           34       2022-02-01       2022-02-01    2022-02-01    2022-02-01   \n",
       "7          125       2022-02-01       2022-02-01    2022-02-01    2022-02-01   \n",
       "8          125       2022-02-01       2022-02-01    2022-02-01    2022-02-01   \n",
       "\n",
       "    ORIGIN DESTINATION DAY_OF_THE_WEEK DELAYED  \n",
       "4  HERSTAL        MONS         Tuesday   False  \n",
       "5  HERSTAL        MONS         Tuesday    True  \n",
       "6  HERSTAL        MONS         Tuesday    True  \n",
       "7  HERSTAL        MONS         Tuesday    True  \n",
       "8  HERSTAL        MONS         Tuesday    True  \n",
       "\n",
       "[5 rows x 22 columns]"
      ]
     },
     "execution_count": 16,
     "metadata": {},
     "output_type": "execute_result"
    }
   ],
   "source": [
    "TRAIN_SNCB.head()"
   ]
  },
  {
   "cell_type": "code",
   "execution_count": 17,
   "metadata": {},
   "outputs": [
    {
     "name": "stdout",
     "output_type": "stream",
     "text": [
      "The total train delays in SNCB operator is: 1025794\n",
      "The total percentage of delays in the month of February is: 0.7102154475878981\n"
     ]
    }
   ],
   "source": [
    "ngi = TRAIN_SNCB.DELAYED.value_counts()[True]\n",
    "print('The total train delays in SNCB operator is:' , ngi)\n",
    "ngii = ngi/1444342\n",
    "print(\"The total percentage of delays in the month of February is:\", ngii)"
   ]
  },
  {
   "cell_type": "code",
   "execution_count": 25,
   "metadata": {
    "scrolled": true
   },
   "outputs": [
    {
     "data": {
      "image/png": "[encoded data removed]",
      "text/plain": [
       "<Figure size 1000x500 with 1 Axes>"
      ]
     },
     "metadata": {},
     "output_type": "display_data"
    }
   ],
   "source": [
    "counts = TRAIN_SNCB.loc[TRAIN_SNCB['DELAYED']].groupby('DAY_OF_THE_WEEK').size()\n",
    "\n",
    "# Create a bar chart with the counts\n",
    "plt.figure(figsize=(10,5))\n",
    "plt.bar(x=np.arange(7), height=counts.values)\n",
    "plt.xticks(np.arange(7), ['Monday', 'Tuesday', 'Wednesday', 'Thursday', 'Friday', 'Saturday', 'Sunday'])\n",
    "plt.ylabel('Number of delayed trips')\n",
    "\n",
    "plt.show()"
   ]
  },
  {
   "cell_type": "markdown",
   "metadata": {},
   "source": [
    "It seems like only Wednesday and Thursday in the month of February has a less train delays. I cannot conclude if this is significant or just random without further analysis"
   ]
  },
  {
   "cell_type": "markdown",
   "metadata": {},
   "source": [
    "Since 70% of the SNCB is delayed it is good to further explore this"
   ]
  },
  {
   "cell_type": "code",
   "execution_count": 26,
   "metadata": {
    "scrolled": true
   },
   "outputs": [
    {
     "data": {
      "text/html": [
       "<div>\n",
       "<style scoped>\n",
       "    .dataframe tbody tr th:only-of-type {\n",
       "        vertical-align: middle;\n",
       "    }\n",
       "\n",
       "    .dataframe tbody tr th {\n",
       "        vertical-align: top;\n",
       "    }\n",
       "\n",
       "    .dataframe thead th {\n",
       "        text-align: right;\n",
       "    }\n",
       "</style>\n",
       "<table border=\"1\" class=\"dataframe\">\n",
       "  <thead>\n",
       "    <tr style=\"text-align: right;\">\n",
       "      <th></th>\n",
       "      <th>DATDEP</th>\n",
       "      <th>TRAIN_NO</th>\n",
       "      <th>RELATION</th>\n",
       "      <th>TRAIN_SERV</th>\n",
       "      <th>PTCAR_NO</th>\n",
       "      <th>LINE_NO_DEP</th>\n",
       "      <th>REAL_TIME_ARR</th>\n",
       "      <th>REAL_TIME_DEP</th>\n",
       "      <th>PLANNED_TIME_ARR</th>\n",
       "      <th>PLANNED_TIME_DEP</th>\n",
       "      <th>...</th>\n",
       "      <th>PTCAR_LG_NM_NL</th>\n",
       "      <th>LINE_NO_ARR</th>\n",
       "      <th>PLANNED_DATE_ARR</th>\n",
       "      <th>PLANNED_DATE_DEP</th>\n",
       "      <th>REAL_DATE_ARR</th>\n",
       "      <th>REAL_DATE_DEP</th>\n",
       "      <th>ORIGIN</th>\n",
       "      <th>DESTINATION</th>\n",
       "      <th>DAY_OF_THE_WEEK</th>\n",
       "      <th>DELAYED</th>\n",
       "    </tr>\n",
       "  </thead>\n",
       "  <tbody>\n",
       "    <tr>\n",
       "      <th>4</th>\n",
       "      <td>2022-02-01</td>\n",
       "      <td>3844</td>\n",
       "      <td>IC 25</td>\n",
       "      <td>SNCB/NMBS</td>\n",
       "      <td>730</td>\n",
       "      <td>34</td>\n",
       "      <td>22:10:09</td>\n",
       "      <td>22:13:03</td>\n",
       "      <td>22:11:00</td>\n",
       "      <td>22:13:00</td>\n",
       "      <td>...</td>\n",
       "      <td>LIEGE-SAINT-LAMBERT</td>\n",
       "      <td>34</td>\n",
       "      <td>2022-02-01</td>\n",
       "      <td>2022-02-01</td>\n",
       "      <td>2022-02-01</td>\n",
       "      <td>2022-02-01</td>\n",
       "      <td>HERSTAL</td>\n",
       "      <td>MONS</td>\n",
       "      <td>Tuesday</td>\n",
       "      <td>False</td>\n",
       "    </tr>\n",
       "    <tr>\n",
       "      <th>5</th>\n",
       "      <td>2022-02-01</td>\n",
       "      <td>3844</td>\n",
       "      <td>IC 25</td>\n",
       "      <td>SNCB/NMBS</td>\n",
       "      <td>728</td>\n",
       "      <td>34</td>\n",
       "      <td>22:16:03</td>\n",
       "      <td>22:17:09</td>\n",
       "      <td>22:16:00</td>\n",
       "      <td>22:17:00</td>\n",
       "      <td>...</td>\n",
       "      <td>LIEGE-CARRE</td>\n",
       "      <td>34</td>\n",
       "      <td>2022-02-01</td>\n",
       "      <td>2022-02-01</td>\n",
       "      <td>2022-02-01</td>\n",
       "      <td>2022-02-01</td>\n",
       "      <td>HERSTAL</td>\n",
       "      <td>MONS</td>\n",
       "      <td>Tuesday</td>\n",
       "      <td>True</td>\n",
       "    </tr>\n",
       "    <tr>\n",
       "      <th>6</th>\n",
       "      <td>2022-02-01</td>\n",
       "      <td>3844</td>\n",
       "      <td>IC 25</td>\n",
       "      <td>SNCB/NMBS</td>\n",
       "      <td>726</td>\n",
       "      <td>125</td>\n",
       "      <td>22:21:09</td>\n",
       "      <td>22:24:57</td>\n",
       "      <td>22:21:00</td>\n",
       "      <td>22:24:00</td>\n",
       "      <td>...</td>\n",
       "      <td>LIEGE-GUILLEMINS</td>\n",
       "      <td>34</td>\n",
       "      <td>2022-02-01</td>\n",
       "      <td>2022-02-01</td>\n",
       "      <td>2022-02-01</td>\n",
       "      <td>2022-02-01</td>\n",
       "      <td>HERSTAL</td>\n",
       "      <td>MONS</td>\n",
       "      <td>Tuesday</td>\n",
       "      <td>True</td>\n",
       "    </tr>\n",
       "    <tr>\n",
       "      <th>7</th>\n",
       "      <td>2022-02-01</td>\n",
       "      <td>3844</td>\n",
       "      <td>IC 25</td>\n",
       "      <td>SNCB/NMBS</td>\n",
       "      <td>1063</td>\n",
       "      <td>125</td>\n",
       "      <td>22:26:57</td>\n",
       "      <td>22:26:57</td>\n",
       "      <td>22:26:00</td>\n",
       "      <td>22:26:00</td>\n",
       "      <td>...</td>\n",
       "      <td>SCLESSIN</td>\n",
       "      <td>125</td>\n",
       "      <td>2022-02-01</td>\n",
       "      <td>2022-02-01</td>\n",
       "      <td>2022-02-01</td>\n",
       "      <td>2022-02-01</td>\n",
       "      <td>HERSTAL</td>\n",
       "      <td>MONS</td>\n",
       "      <td>Tuesday</td>\n",
       "      <td>True</td>\n",
       "    </tr>\n",
       "    <tr>\n",
       "      <th>8</th>\n",
       "      <td>2022-02-01</td>\n",
       "      <td>3844</td>\n",
       "      <td>IC 25</td>\n",
       "      <td>SNCB/NMBS</td>\n",
       "      <td>1148</td>\n",
       "      <td>125</td>\n",
       "      <td>22:29:07</td>\n",
       "      <td>22:29:07</td>\n",
       "      <td>22:28:00</td>\n",
       "      <td>22:28:00</td>\n",
       "      <td>...</td>\n",
       "      <td>TILLEUR</td>\n",
       "      <td>125</td>\n",
       "      <td>2022-02-01</td>\n",
       "      <td>2022-02-01</td>\n",
       "      <td>2022-02-01</td>\n",
       "      <td>2022-02-01</td>\n",
       "      <td>HERSTAL</td>\n",
       "      <td>MONS</td>\n",
       "      <td>Tuesday</td>\n",
       "      <td>True</td>\n",
       "    </tr>\n",
       "  </tbody>\n",
       "</table>\n",
       "<p>5 rows × 22 columns</p>\n",
       "</div>"
      ],
      "text/plain": [
       "      DATDEP TRAIN_NO RELATION TRAIN_SERV  PTCAR_NO LINE_NO_DEP REAL_TIME_ARR  \\\n",
       "4 2022-02-01     3844    IC 25  SNCB/NMBS       730          34      22:10:09   \n",
       "5 2022-02-01     3844    IC 25  SNCB/NMBS       728          34      22:16:03   \n",
       "6 2022-02-01     3844    IC 25  SNCB/NMBS       726         125      22:21:09   \n",
       "7 2022-02-01     3844    IC 25  SNCB/NMBS      1063         125      22:26:57   \n",
       "8 2022-02-01     3844    IC 25  SNCB/NMBS      1148         125      22:29:07   \n",
       "\n",
       "  REAL_TIME_DEP PLANNED_TIME_ARR PLANNED_TIME_DEP  ...       PTCAR_LG_NM_NL  \\\n",
       "4      22:13:03         22:11:00         22:13:00  ...  LIEGE-SAINT-LAMBERT   \n",
       "5      22:17:09         22:16:00         22:17:00  ...          LIEGE-CARRE   \n",
       "6      22:24:57         22:21:00         22:24:00  ...     LIEGE-GUILLEMINS   \n",
       "7      22:26:57         22:26:00         22:26:00  ...             SCLESSIN   \n",
       "8      22:29:07         22:28:00         22:28:00  ...              TILLEUR   \n",
       "\n",
       "   LINE_NO_ARR PLANNED_DATE_ARR PLANNED_DATE_DEP REAL_DATE_ARR REAL_DATE_DEP  \\\n",
       "4           34       2022-02-01       2022-02-01    2022-02-01    2022-02-01   \n",
       "5           34       2022-02-01       2022-02-01    2022-02-01    2022-02-01   \n",
       "6           34       2022-02-01       2022-02-01    2022-02-01    2022-02-01   \n",
       "7          125       2022-02-01       2022-02-01    2022-02-01    2022-02-01   \n",
       "8          125       2022-02-01       2022-02-01    2022-02-01    2022-02-01   \n",
       "\n",
       "    ORIGIN DESTINATION DAY_OF_THE_WEEK DELAYED  \n",
       "4  HERSTAL        MONS         Tuesday   False  \n",
       "5  HERSTAL        MONS         Tuesday    True  \n",
       "6  HERSTAL        MONS         Tuesday    True  \n",
       "7  HERSTAL        MONS         Tuesday    True  \n",
       "8  HERSTAL        MONS         Tuesday    True  \n",
       "\n",
       "[5 rows x 22 columns]"
      ]
     },
     "execution_count": 26,
     "metadata": {},
     "output_type": "execute_result"
    }
   ],
   "source": [
    "TRAIN_SNCB.head()"
   ]
  },
  {
   "cell_type": "code",
   "execution_count": 33,
   "metadata": {
    "scrolled": false
   },
   "outputs": [
    {
     "data": {
      "text/plain": [
       "['IC 25', 'IC 31', 'L B1-2', 'L C3', 'ICE', ..., 'L G3', 'L 28', 'L L2', 'L 37-2', 'L B9']\n",
       "Length: 95\n",
       "Categories (97, object): ['EURST', 'IC 01', 'IC 02', 'IC 03', ..., 'L L3', 'L L4', 'TGV', 'THAL']"
      ]
     },
     "execution_count": 33,
     "metadata": {},
     "output_type": "execute_result"
    }
   ],
   "source": [
    "TRAIN_SNCB.RELATION.unique()"
   ]
  },
  {
   "cell_type": "markdown",
   "metadata": {},
   "source": [
    "Based on the definition of RELATION, i will make new column just to get the letter"
   ]
  },
  {
   "cell_type": "code",
   "execution_count": 40,
   "metadata": {},
   "outputs": [
    {
     "name": "stderr",
     "output_type": "stream",
     "text": [
      "C:\\Users\\Jomari Arubio\\AppData\\Roaming\\Python\\Python37\\site-packages\\ipykernel_launcher.py:1: SettingWithCopyWarning: \n",
      "A value is trying to be set on a copy of a slice from a DataFrame.\n",
      "Try using .loc[row_indexer,col_indexer] = value instead\n",
      "\n",
      "See the caveats in the documentation: https://pandas.pydata.org/pandas-docs/stable/user_guide/indexing.html#returning-a-view-versus-a-copy\n",
      "  \"\"\"Entry point for launching an IPython kernel.\n"
     ]
    }
   ],
   "source": [
    "TRAIN_SNCB['REL'] = TRAIN_SNCB.RELATION.apply(lambda x: x.split(' ')[0])"
   ]
  },
  {
   "cell_type": "code",
   "execution_count": 43,
   "metadata": {
    "scrolled": true
   },
   "outputs": [
    {
     "data": {
      "text/plain": [
       "array(['IC', 'L', 'ICE', 'TGV', 'THAL', 'INT'], dtype=object)"
      ]
     },
     "execution_count": 43,
     "metadata": {},
     "output_type": "execute_result"
    }
   ],
   "source": [
    "TRAIN_SNCB['REL'].unique()"
   ]
  },
  {
   "cell_type": "markdown",
   "metadata": {},
   "source": [
    "Here I was able to extract the main relation of the data. \n",
    "\n",
    "- IC = trains connect Belgium’s large cities. These trains only stop at the biggest train stations and sometimes cross international borders.\n",
    "- L = trains generally connect cities, but they also stop at every station along the route.\n",
    "- EC, THA, TGV, ICE, EST Regular international trains, namely Eurocity, Thalys, TGV, ICE and Eurostar."
   ]
  },
  {
   "cell_type": "code",
   "execution_count": 49,
   "metadata": {
    "scrolled": true
   },
   "outputs": [
    {
     "data": {
      "text/html": [
       "<div>\n",
       "<style scoped>\n",
       "    .dataframe tbody tr th:only-of-type {\n",
       "        vertical-align: middle;\n",
       "    }\n",
       "\n",
       "    .dataframe tbody tr th {\n",
       "        vertical-align: top;\n",
       "    }\n",
       "\n",
       "    .dataframe thead th {\n",
       "        text-align: right;\n",
       "    }\n",
       "</style>\n",
       "<table border=\"1\" class=\"dataframe\">\n",
       "  <thead>\n",
       "    <tr style=\"text-align: right;\">\n",
       "      <th></th>\n",
       "      <th>PTCAR_NO</th>\n",
       "      <th>DELAY_ARR</th>\n",
       "      <th>DELAY_DEP</th>\n",
       "    </tr>\n",
       "  </thead>\n",
       "  <tbody>\n",
       "    <tr>\n",
       "      <th>count</th>\n",
       "      <td>601669.000000</td>\n",
       "      <td>601669.000000</td>\n",
       "      <td>601669.000000</td>\n",
       "    </tr>\n",
       "    <tr>\n",
       "      <th>mean</th>\n",
       "      <td>625.646713</td>\n",
       "      <td>209.330674</td>\n",
       "      <td>208.449473</td>\n",
       "    </tr>\n",
       "    <tr>\n",
       "      <th>std</th>\n",
       "      <td>407.267369</td>\n",
       "      <td>427.799177</td>\n",
       "      <td>430.611018</td>\n",
       "    </tr>\n",
       "    <tr>\n",
       "      <th>min</th>\n",
       "      <td>6.000000</td>\n",
       "      <td>1.000000</td>\n",
       "      <td>-1033.000000</td>\n",
       "    </tr>\n",
       "    <tr>\n",
       "      <th>25%</th>\n",
       "      <td>232.000000</td>\n",
       "      <td>31.000000</td>\n",
       "      <td>29.000000</td>\n",
       "    </tr>\n",
       "    <tr>\n",
       "      <th>50%</th>\n",
       "      <td>578.000000</td>\n",
       "      <td>80.000000</td>\n",
       "      <td>79.000000</td>\n",
       "    </tr>\n",
       "    <tr>\n",
       "      <th>75%</th>\n",
       "      <td>913.000000</td>\n",
       "      <td>203.000000</td>\n",
       "      <td>203.000000</td>\n",
       "    </tr>\n",
       "    <tr>\n",
       "      <th>max</th>\n",
       "      <td>2089.000000</td>\n",
       "      <td>15012.000000</td>\n",
       "      <td>15012.000000</td>\n",
       "    </tr>\n",
       "  </tbody>\n",
       "</table>\n",
       "</div>"
      ],
      "text/plain": [
       "            PTCAR_NO      DELAY_ARR      DELAY_DEP\n",
       "count  601669.000000  601669.000000  601669.000000\n",
       "mean      625.646713     209.330674     208.449473\n",
       "std       407.267369     427.799177     430.611018\n",
       "min         6.000000       1.000000   -1033.000000\n",
       "25%       232.000000      31.000000      29.000000\n",
       "50%       578.000000      80.000000      79.000000\n",
       "75%       913.000000     203.000000     203.000000\n",
       "max      2089.000000   15012.000000   15012.000000"
      ]
     },
     "execution_count": 49,
     "metadata": {},
     "output_type": "execute_result"
    }
   ],
   "source": [
    "kru = TRAIN_SNCB[(TRAIN_SNCB['DELAYED'] == True) & (TRAIN_SNCB['REL'] == 'IC')]\n",
    "kru.describe()"
   ]
  },
  {
   "cell_type": "markdown",
   "metadata": {},
   "source": [
    "### NOTE:\n",
    "- the average delay time for SNCB Operator is 188 seconds or 3.13 minutes, the maximum is 4.17 hrs\n",
    "- the average delay time for SNCB Operator that is **IC relation is 209 seconds or 3.48 minutes, the max is 4.17 hrs**"
   ]
  },
  {
   "cell_type": "code",
   "execution_count": 45,
   "metadata": {},
   "outputs": [
    {
     "data": {
      "image/png": "[encoded data removed]",
      "text/plain": [
       "<Figure size 1000x500 with 1 Axes>"
      ]
     },
     "metadata": {},
     "output_type": "display_data"
    }
   ],
   "source": [
    "counts = TRAIN_SNCB.loc[TRAIN_SNCB['DELAYED']].groupby('REL').size()\n",
    "\n",
    "# Create a bar chart with the counts\n",
    "plt.figure(figsize=(10,5))\n",
    "plt.bar(x=np.arange(6), height=counts.values)\n",
    "plt.xticks(np.arange(6), ['IC', 'L', 'ICE', 'TGV', 'THAL', 'INT'])\n",
    "plt.ylabel('Number of delayed trips')\n",
    "\n",
    "plt.show()"
   ]
  },
  {
   "cell_type": "markdown",
   "metadata": {},
   "source": [
    "In the figure above, we could see that most of the delays (601,669) delays happen with 'IC' Relation trains"
   ]
  },
  {
   "cell_type": "code",
   "execution_count": 51,
   "metadata": {
    "scrolled": true
   },
   "outputs": [
    {
     "data": {
      "image/png": "[encoded data removed]",
      "text/plain": [
       "<Figure size 1000x500 with 1 Axes>"
      ]
     },
     "metadata": {},
     "output_type": "display_data"
    }
   ],
   "source": [
    "counts = kru.loc[kru['DELAYED']].groupby('DAY_OF_THE_WEEK').size()\n",
    "\n",
    "# Create a bar chart with the counts\n",
    "plt.figure(figsize=(10,5))\n",
    "plt.bar(x=np.arange(7), height=counts.values)\n",
    "plt.xticks(np.arange(7), ['Monday', 'Tuesday', 'Wednesday', 'Thursday', 'Friday', 'Saturday', 'Sunday'])\n",
    "plt.ylabel('Number of delayed trips')\n",
    "\n",
    "plt.show()"
   ]
  },
  {
   "cell_type": "markdown",
   "metadata": {},
   "source": [
    "The figure above seems similar in the first figure DAY_OF_THE_WEEK vs. Number of Delayed trips, but here I only plot those who are \"IC\""
   ]
  },
  {
   "cell_type": "code",
   "execution_count": 55,
   "metadata": {
    "scrolled": true
   },
   "outputs": [
    {
     "name": "stdout",
     "output_type": "stream",
     "text": [
      "<class 'pandas.core.frame.DataFrame'>\n",
      "Int64Index: 1444342 entries, 4 to 1716088\n",
      "Data columns (total 23 columns):\n",
      " #   Column            Non-Null Count    Dtype         \n",
      "---  ------            --------------    -----         \n",
      " 0   DATDEP            1444342 non-null  datetime64[ns]\n",
      " 1   TRAIN_NO          1444342 non-null  category      \n",
      " 2   RELATION          1444342 non-null  category      \n",
      " 3   TRAIN_SERV        1444342 non-null  category      \n",
      " 4   PTCAR_NO          1444342 non-null  int64         \n",
      " 5   LINE_NO_DEP       1444342 non-null  object        \n",
      " 6   REAL_TIME_ARR     1444342 non-null  object        \n",
      " 7   REAL_TIME_DEP     1444342 non-null  object        \n",
      " 8   PLANNED_TIME_ARR  1444342 non-null  object        \n",
      " 9   PLANNED_TIME_DEP  1444342 non-null  object        \n",
      " 10  DELAY_ARR         1444342 non-null  float64       \n",
      " 11  DELAY_DEP         1444342 non-null  float64       \n",
      " 12  PTCAR_LG_NM_NL    1444342 non-null  object        \n",
      " 13  LINE_NO_ARR       1444342 non-null  object        \n",
      " 14  PLANNED_DATE_ARR  1444342 non-null  datetime64[ns]\n",
      " 15  PLANNED_DATE_DEP  1444342 non-null  datetime64[ns]\n",
      " 16  REAL_DATE_ARR     1444342 non-null  datetime64[ns]\n",
      " 17  REAL_DATE_DEP     1444342 non-null  datetime64[ns]\n",
      " 18  ORIGIN            1444342 non-null  object        \n",
      " 19  DESTINATION       1444342 non-null  object        \n",
      " 20  DAY_OF_THE_WEEK   1444342 non-null  object        \n",
      " 21  DELAYED           1444342 non-null  bool          \n",
      " 22  REL               1444342 non-null  object        \n",
      "dtypes: bool(1), category(3), datetime64[ns](5), float64(2), int64(1), object(11)\n",
      "memory usage: 227.4+ MB\n"
     ]
    }
   ],
   "source": [
    "TRAIN_SNCB.info()"
   ]
  },
  {
   "cell_type": "markdown",
   "metadata": {},
   "source": [
    "## Correlation Matrix\n",
    "\n",
    "- I will convert the categorical and object type in order to run a correlation analysis"
   ]
  },
  {
   "cell_type": "code",
   "execution_count": 63,
   "metadata": {},
   "outputs": [
    {
     "data": {
      "text/html": [
       "<div>\n",
       "<style scoped>\n",
       "    .dataframe tbody tr th:only-of-type {\n",
       "        vertical-align: middle;\n",
       "    }\n",
       "\n",
       "    .dataframe tbody tr th {\n",
       "        vertical-align: top;\n",
       "    }\n",
       "\n",
       "    .dataframe thead th {\n",
       "        text-align: right;\n",
       "    }\n",
       "</style>\n",
       "<table border=\"1\" class=\"dataframe\">\n",
       "  <thead>\n",
       "    <tr style=\"text-align: right;\">\n",
       "      <th></th>\n",
       "      <th>DATDEP</th>\n",
       "      <th>TRAIN_NO</th>\n",
       "      <th>RELATION</th>\n",
       "      <th>TRAIN_SERV</th>\n",
       "      <th>PTCAR_NO</th>\n",
       "      <th>LINE_NO_DEP</th>\n",
       "      <th>REAL_TIME_ARR</th>\n",
       "      <th>REAL_TIME_DEP</th>\n",
       "      <th>PLANNED_TIME_ARR</th>\n",
       "      <th>PLANNED_TIME_DEP</th>\n",
       "      <th>...</th>\n",
       "      <th>LINE_NO_ARR</th>\n",
       "      <th>PLANNED_DATE_ARR</th>\n",
       "      <th>PLANNED_DATE_DEP</th>\n",
       "      <th>REAL_DATE_ARR</th>\n",
       "      <th>REAL_DATE_DEP</th>\n",
       "      <th>ORIGIN</th>\n",
       "      <th>DESTINATION</th>\n",
       "      <th>DAY_OF_THE_WEEK</th>\n",
       "      <th>DELAYED</th>\n",
       "      <th>REL</th>\n",
       "    </tr>\n",
       "  </thead>\n",
       "  <tbody>\n",
       "    <tr>\n",
       "      <th>4</th>\n",
       "      <td>2022-02-01</td>\n",
       "      <td>3844.0</td>\n",
       "      <td>IC 25</td>\n",
       "      <td>SNCB/NMBS</td>\n",
       "      <td>730</td>\n",
       "      <td>34</td>\n",
       "      <td>22:10:09</td>\n",
       "      <td>22:13:03</td>\n",
       "      <td>22:11:00</td>\n",
       "      <td>22:13:00</td>\n",
       "      <td>...</td>\n",
       "      <td>34</td>\n",
       "      <td>2022-02-01</td>\n",
       "      <td>2022-02-01</td>\n",
       "      <td>2022-02-01</td>\n",
       "      <td>2022-02-01</td>\n",
       "      <td>HERSTAL</td>\n",
       "      <td>MONS</td>\n",
       "      <td>Tuesday</td>\n",
       "      <td>False</td>\n",
       "      <td>IC</td>\n",
       "    </tr>\n",
       "    <tr>\n",
       "      <th>5</th>\n",
       "      <td>2022-02-01</td>\n",
       "      <td>3844.0</td>\n",
       "      <td>IC 25</td>\n",
       "      <td>SNCB/NMBS</td>\n",
       "      <td>728</td>\n",
       "      <td>34</td>\n",
       "      <td>22:16:03</td>\n",
       "      <td>22:17:09</td>\n",
       "      <td>22:16:00</td>\n",
       "      <td>22:17:00</td>\n",
       "      <td>...</td>\n",
       "      <td>34</td>\n",
       "      <td>2022-02-01</td>\n",
       "      <td>2022-02-01</td>\n",
       "      <td>2022-02-01</td>\n",
       "      <td>2022-02-01</td>\n",
       "      <td>HERSTAL</td>\n",
       "      <td>MONS</td>\n",
       "      <td>Tuesday</td>\n",
       "      <td>True</td>\n",
       "      <td>IC</td>\n",
       "    </tr>\n",
       "    <tr>\n",
       "      <th>6</th>\n",
       "      <td>2022-02-01</td>\n",
       "      <td>3844.0</td>\n",
       "      <td>IC 25</td>\n",
       "      <td>SNCB/NMBS</td>\n",
       "      <td>726</td>\n",
       "      <td>125</td>\n",
       "      <td>22:21:09</td>\n",
       "      <td>22:24:57</td>\n",
       "      <td>22:21:00</td>\n",
       "      <td>22:24:00</td>\n",
       "      <td>...</td>\n",
       "      <td>34</td>\n",
       "      <td>2022-02-01</td>\n",
       "      <td>2022-02-01</td>\n",
       "      <td>2022-02-01</td>\n",
       "      <td>2022-02-01</td>\n",
       "      <td>HERSTAL</td>\n",
       "      <td>MONS</td>\n",
       "      <td>Tuesday</td>\n",
       "      <td>True</td>\n",
       "      <td>IC</td>\n",
       "    </tr>\n",
       "    <tr>\n",
       "      <th>7</th>\n",
       "      <td>2022-02-01</td>\n",
       "      <td>3844.0</td>\n",
       "      <td>IC 25</td>\n",
       "      <td>SNCB/NMBS</td>\n",
       "      <td>1063</td>\n",
       "      <td>125</td>\n",
       "      <td>22:26:57</td>\n",
       "      <td>22:26:57</td>\n",
       "      <td>22:26:00</td>\n",
       "      <td>22:26:00</td>\n",
       "      <td>...</td>\n",
       "      <td>125</td>\n",
       "      <td>2022-02-01</td>\n",
       "      <td>2022-02-01</td>\n",
       "      <td>2022-02-01</td>\n",
       "      <td>2022-02-01</td>\n",
       "      <td>HERSTAL</td>\n",
       "      <td>MONS</td>\n",
       "      <td>Tuesday</td>\n",
       "      <td>True</td>\n",
       "      <td>IC</td>\n",
       "    </tr>\n",
       "    <tr>\n",
       "      <th>8</th>\n",
       "      <td>2022-02-01</td>\n",
       "      <td>3844.0</td>\n",
       "      <td>IC 25</td>\n",
       "      <td>SNCB/NMBS</td>\n",
       "      <td>1148</td>\n",
       "      <td>125</td>\n",
       "      <td>22:29:07</td>\n",
       "      <td>22:29:07</td>\n",
       "      <td>22:28:00</td>\n",
       "      <td>22:28:00</td>\n",
       "      <td>...</td>\n",
       "      <td>125</td>\n",
       "      <td>2022-02-01</td>\n",
       "      <td>2022-02-01</td>\n",
       "      <td>2022-02-01</td>\n",
       "      <td>2022-02-01</td>\n",
       "      <td>HERSTAL</td>\n",
       "      <td>MONS</td>\n",
       "      <td>Tuesday</td>\n",
       "      <td>True</td>\n",
       "      <td>IC</td>\n",
       "    </tr>\n",
       "  </tbody>\n",
       "</table>\n",
       "<p>5 rows × 23 columns</p>\n",
       "</div>"
      ],
      "text/plain": [
       "      DATDEP  TRAIN_NO RELATION TRAIN_SERV  PTCAR_NO LINE_NO_DEP  \\\n",
       "4 2022-02-01    3844.0    IC 25  SNCB/NMBS       730          34   \n",
       "5 2022-02-01    3844.0    IC 25  SNCB/NMBS       728          34   \n",
       "6 2022-02-01    3844.0    IC 25  SNCB/NMBS       726         125   \n",
       "7 2022-02-01    3844.0    IC 25  SNCB/NMBS      1063         125   \n",
       "8 2022-02-01    3844.0    IC 25  SNCB/NMBS      1148         125   \n",
       "\n",
       "  REAL_TIME_ARR REAL_TIME_DEP PLANNED_TIME_ARR PLANNED_TIME_DEP  ...  \\\n",
       "4      22:10:09      22:13:03         22:11:00         22:13:00  ...   \n",
       "5      22:16:03      22:17:09         22:16:00         22:17:00  ...   \n",
       "6      22:21:09      22:24:57         22:21:00         22:24:00  ...   \n",
       "7      22:26:57      22:26:57         22:26:00         22:26:00  ...   \n",
       "8      22:29:07      22:29:07         22:28:00         22:28:00  ...   \n",
       "\n",
       "   LINE_NO_ARR  PLANNED_DATE_ARR PLANNED_DATE_DEP REAL_DATE_ARR REAL_DATE_DEP  \\\n",
       "4           34        2022-02-01       2022-02-01    2022-02-01    2022-02-01   \n",
       "5           34        2022-02-01       2022-02-01    2022-02-01    2022-02-01   \n",
       "6           34        2022-02-01       2022-02-01    2022-02-01    2022-02-01   \n",
       "7          125        2022-02-01       2022-02-01    2022-02-01    2022-02-01   \n",
       "8          125        2022-02-01       2022-02-01    2022-02-01    2022-02-01   \n",
       "\n",
       "    ORIGIN DESTINATION DAY_OF_THE_WEEK DELAYED REL  \n",
       "4  HERSTAL        MONS         Tuesday   False  IC  \n",
       "5  HERSTAL        MONS         Tuesday    True  IC  \n",
       "6  HERSTAL        MONS         Tuesday    True  IC  \n",
       "7  HERSTAL        MONS         Tuesday    True  IC  \n",
       "8  HERSTAL        MONS         Tuesday    True  IC  \n",
       "\n",
       "[5 rows x 23 columns]"
      ]
     },
     "execution_count": 63,
     "metadata": {},
     "output_type": "execute_result"
    }
   ],
   "source": [
    "TRAIN_SNCB.head()"
   ]
  },
  {
   "cell_type": "markdown",
   "metadata": {},
   "source": [
    "### 2. EUROSTARFR Train Operator"
   ]
  },
  {
   "cell_type": "code",
   "execution_count": 19,
   "metadata": {
    "scrolled": false
   },
   "outputs": [
    {
     "name": "stdout",
     "output_type": "stream",
     "text": [
      "The shape of the EUROSTARFr is:  (1854, 22)\n",
      "The total train delays in EUROSTARFR operator is: 1072\n",
      "The total percentage of delays in the month of February is: 0.5782092772384034\n"
     ]
    }
   ],
   "source": [
    "TRAIN_EUROSTARFR = df[df[\"TRAIN_SERV\"] == \"EUROSTARFR\"]\n",
    "print('The shape of the EUROSTARFr is: ', TRAIN_EUROSTARFR.shape)\n",
    "\n",
    "ngi = TRAIN_EUROSTARFR.DELAYED.value_counts()[True]\n",
    "print('The total train delays in EUROSTARFR operator is:' , ngi)\n",
    "ngii = ngi/1854\n",
    "print(\"The total percentage of delays in the month of February is:\", ngii)"
   ]
  },
  {
   "cell_type": "code",
   "execution_count": 23,
   "metadata": {
    "scrolled": true
   },
   "outputs": [
    {
     "data": {
      "image/png": "[encoded data removed]",
      "text/plain": [
       "<Figure size 1000x500 with 1 Axes>"
      ]
     },
     "metadata": {},
     "output_type": "display_data"
    }
   ],
   "source": [
    "counts = TRAIN_EUROSTARFR.loc[TRAIN_EUROSTARFR['DELAYED']].groupby('DAY_OF_THE_WEEK').size()\n",
    "\n",
    "# Create a bar chart with the counts\n",
    "plt.figure(figsize=(10,5))\n",
    "plt.bar(x=np.arange(7), height=counts.values)\n",
    "plt.xticks(np.arange(7), ['Monday', 'Tuesday', 'Wednesday', 'Thursday', 'Friday', 'Saturday', 'Sunday'])\n",
    "plt.ylabel('Number of delayed trips')\n",
    "\n",
    "plt.show()"
   ]
  },
  {
   "cell_type": "markdown",
   "metadata": {},
   "source": [
    "For the operator EUROSTARFR, most of the delays happen on Thursday and Friday. However, a 1854 data might be causing this diffence."
   ]
  },
  {
   "cell_type": "markdown",
   "metadata": {},
   "source": [
    "### 3. THI Train Operator"
   ]
  },
  {
   "cell_type": "code",
   "execution_count": 21,
   "metadata": {},
   "outputs": [
    {
     "name": "stdout",
     "output_type": "stream",
     "text": [
      "The shape of the TRAIN_THI is:  (11397, 22)\n",
      "The total train delays in TRAIN_THI operator is: 7551\n",
      "The total percentage of delays in the month of February is: 0.6625427744143195\n"
     ]
    }
   ],
   "source": [
    "TRAIN_THI = df[df['TRAIN_SERV'] == 'THI-FACT']\n",
    "print('The shape of the TRAIN_THI is: ', TRAIN_THI.shape)\n",
    "\n",
    "\n",
    "ngi = TRAIN_THI.DELAYED.value_counts()[True]\n",
    "print('The total train delays in TRAIN_THI operator is:' , ngi)\n",
    "ngii = ngi/11397\n",
    "print(\"The total percentage of delays in the month of February is:\", ngii)"
   ]
  },
  {
   "cell_type": "code",
   "execution_count": 24,
   "metadata": {},
   "outputs": [
    {
     "data": {
      "image/png": "[encoded data removed]",
      "text/plain": [
       "<Figure size 1000x500 with 1 Axes>"
      ]
     },
     "metadata": {},
     "output_type": "display_data"
    }
   ],
   "source": [
    "counts = TRAIN_THI.loc[TRAIN_THI['DELAYED']].groupby('DAY_OF_THE_WEEK').size()\n",
    "\n",
    "# Create a bar chart with the counts\n",
    "plt.figure(figsize=(10,5))\n",
    "plt.bar(x=np.arange(7), height=counts.values)\n",
    "plt.xticks(np.arange(7), ['Monday', 'Tuesday', 'Wednesday', 'Thursday', 'Friday', 'Saturday', 'Sunday'])\n",
    "plt.ylabel('Number of delayed trips')\n",
    "\n",
    "plt.show()"
   ]
  },
  {
   "cell_type": "markdown",
   "metadata": {},
   "source": [
    "Lastly, for the operator TRAIN_THI, most of the delays happen on Monday and Thursday. As we could see three operators have different day of delays. "
   ]
  },
  {
   "cell_type": "markdown",
   "metadata": {},
   "source": [
    "#### Note: \n",
    "For the question 3, i think transforming PTCAR_LG_NM_NL into a dummy variables would help us quantify which of the stations/locations got more delays. "
   ]
  }
 ],
 "metadata": {
  "kernelspec": {
   "display_name": "Python 3 (ipykernel)",
   "language": "python",
   "name": "python3"
  },
  "language_info": {
   "codemirror_mode": {
    "name": "ipython",
    "version": 3
   },
   "file_extension": ".py",
   "mimetype": "text/x-python",
   "name": "python",
   "nbconvert_exporter": "python",
   "pygments_lexer": "ipython3",
   "version": "3.7.6"
  }
 },
 "nbformat": 4,
 "nbformat_minor": 4
}
